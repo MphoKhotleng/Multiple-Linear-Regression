{
 "cells": [
  {
   "cell_type": "markdown",
   "metadata": {},
   "source": [
    "# MLR\n"
   ]
  },
  {
   "cell_type": "markdown",
   "metadata": {},
   "source": [
    "### Import packages & Loading Data\n"
   ]
  },
  {
   "cell_type": "code",
   "execution_count": null,
   "metadata": {},
   "outputs": [],
   "source": [
    "import pandas as pd\n",
    "import seaborn as sns\n",
    "import pandas as pd\n",
    "import matplotlib.pyplot as plt\n",
    "from pandas.plotting import scatter_matrix\n",
    "import statsmodels\n",
    "from scipy.stats import iqr\n",
    "from sklearn.model_selection import train_test_split\n",
    "from scipy import stats\n",
    "from scipy.stats import pearsonr\n",
    "import statsmodels.api as sm\n",
    "from sklearn.metrics import mean_squared_error\n",
    "from math import sqrt\n",
    "from statistics import mean,stdev\n",
    "import warnings\n",
    "warnings.filterwarnings(\"ignore\")\n"
   ]
  },
  {
   "cell_type": "code",
   "execution_count": null,
   "metadata": {},
   "outputs": [],
   "source": [
    "sal = pd.read_csv('salary.csv')"
   ]
  },
  {
   "cell_type": "markdown",
   "metadata": {},
   "source": [
    "### Missing Values"
   ]
  },
  {
   "cell_type": "code",
   "execution_count": null,
   "metadata": {},
   "outputs": [],
   "source": [
    "sal.isnull().sum()"
   ]
  },
  {
   "cell_type": "code",
   "execution_count": null,
   "metadata": {},
   "outputs": [],
   "source": [
    "sal['salary'].fillna(sal['salary'].mean(),inplace = True)\n",
    "sal = sal.drop_duplicates()"
   ]
  },
  {
   "cell_type": "markdown",
   "metadata": {},
   "source": [
    "* Filling in missing values and dropping duplicates"
   ]
  },
  {
   "cell_type": "markdown",
   "metadata": {},
   "source": [
    "### Splitting Data"
   ]
  },
  {
   "cell_type": "code",
   "execution_count": null,
   "metadata": {},
   "outputs": [],
   "source": [
    "y = sal.salary\n",
    "x = sal\n",
    "x_train,x_test,y_train,y_test = train_test_split(x,y,test_size=0.3,random_state=0)"
   ]
  },
  {
   "cell_type": "code",
   "execution_count": null,
   "metadata": {
    "scrolled": true
   },
   "outputs": [],
   "source": [
    "data_corr = x_train.corr().iloc[:,0].sort_values()\n",
    "data_corr"
   ]
  },
  {
   "cell_type": "code",
   "execution_count": null,
   "metadata": {},
   "outputs": [],
   "source": [
    "strong_data = data_corr[abs(data_corr) > 0.45].sort_values(ascending=False)\n"
   ]
  },
  {
   "cell_type": "markdown",
   "metadata": {},
   "source": [
    "*The features of interest with regard to salary are:*\n",
    "- Years worked in this field\n",
    "- Years worked at current rank \n",
    "- Position\n",
    "- Field of work\n",
    "\n",
    "*as they have the higher correlation*"
   ]
  },
  {
   "cell_type": "markdown",
   "metadata": {},
   "source": [
    "*We further need to see if the relationships are significant.* "
   ]
  },
  {
   "cell_type": "markdown",
   "metadata": {},
   "source": [
    "### Descriptive table"
   ]
  },
  {
   "cell_type": "code",
   "execution_count": null,
   "metadata": {},
   "outputs": [],
   "source": [
    "data_num = x_train[['salary','yearsworked', 'yearsrank','position','Field']]"
   ]
  },
  {
   "cell_type": "code",
   "execution_count": null,
   "metadata": {},
   "outputs": [],
   "source": [
    "data_num.describe()"
   ]
  },
  {
   "cell_type": "markdown",
   "metadata": {},
   "source": [
    "### Histograms"
   ]
  },
  {
   "cell_type": "code",
   "execution_count": null,
   "metadata": {},
   "outputs": [],
   "source": [
    "data_num.hist(figsize=(16, 20),bins=20, xlabelsize=8, ylabelsize=8)"
   ]
  },
  {
   "cell_type": "markdown",
   "metadata": {},
   "source": [
    "*From the above histograms of the features of interest it is clear that Position and Field are categorical data.*\n",
    "- Salary \n",
    "    - There are possible outliers\n",
    "    - it is skewed to the right \n",
    "    - A lot of individuals earn between 33000 dollars & 75000 dollars\n",
    "\n",
    "\n",
    "- Years worked in this field\n",
    "    - There are possible outliers\n",
    "    -i t is skewed to the right\n",
    "    - A lot of individuals have worked between 0 years & 29 years\n",
    "    \n",
    "\n",
    "- Years worked at current rank\n",
    "    - It is skewed to the right\n",
    "    - There are possible outliers\n",
    "    - Most individuals have worked at the current rank for years between 0 & 5 years.\n",
    "    "
   ]
  },
  {
   "cell_type": "markdown",
   "metadata": {},
   "source": [
    "### Scatter plots"
   ]
  },
  {
   "cell_type": "code",
   "execution_count": null,
   "metadata": {},
   "outputs": [],
   "source": [
    "scatter_matrix(data_num, alpha=0.2, figsize=(10, 10))"
   ]
  },
  {
   "cell_type": "markdown",
   "metadata": {},
   "source": [
    "*Looking at the above scatter matrix:*\n",
    "- The first row from top of the matrix\n",
    "    - It shows the realtionship of salary with other features of interest.\n",
    "        - There is a linear relationship between salary & years worked in the current field.\n",
    "        - There is a linear relationship between salary & Years worked at current rank.\n",
    "        - There is no defined relationship with salary for position and Field.\n",
    "- The matrix can be used to see if there is a relationship amongst the features other than the relationship with salary \n",
    "    "
   ]
  },
  {
   "cell_type": "markdown",
   "metadata": {},
   "source": [
    "*The Field feature and Position feature are categorical. We therefore have to transorm the data.*"
   ]
  },
  {
   "cell_type": "markdown",
   "metadata": {},
   "source": [
    "### Transforming data (get_dummies)"
   ]
  },
  {
   "cell_type": "code",
   "execution_count": null,
   "metadata": {
    "scrolled": true
   },
   "outputs": [],
   "source": [
    "dict1 = {1:'Engineering', 2:'Finance', 3:'Human Resources', 4:'Marketing'}\n",
    "data['Field'] = data.Field.map(dict1)\n",
    "dict2 ={0:'female', 1: 'male'}\n",
    "data['male'] =data.male.map(dict2)\n",
    "dict3={1:'Junior', 2:'Manager', 3:'Executive'}\n",
    "data['position']=data.position.map(dict3)\n",
    "dict4 ={0:'no other qual', 1:'yes other qual'}\n",
    "data['otherqual'] = data.otherqual.map(dict4)\n",
    "dict5 = {0:'no degree', 1:'yes degree'}\n",
    "data['degree']= data.degree.map(dict5)\n",
    "data = pd.get_dummies(data, prefix_sep='_', drop_first=True)\n"
   ]
  },
  {
   "cell_type": "code",
   "execution_count": null,
   "metadata": {},
   "outputs": [],
   "source": [
    "dict1 = {1:'Engineering', 2:'Finance', 3:'Human Resources', 4:'Marketing'}\n",
    "x_train['Field'] = x_train.Field.map(dict1)\n",
    "dict2 ={0:'female', 1: 'male'}\n",
    "x_train['male'] =x_train.male.map(dict2)\n",
    "dict3={1:'Junior', 2:'Manager', 3:'Executive'}\n",
    "x_train['position']=x_train.position.map(dict3)\n",
    "dict4 ={0:'no other qual', 1:'yes other qual'}\n",
    "x_train['otherqual'] = x_train.otherqual.map(dict4)\n",
    "dict5 = {0:'no degree', 1:'yes degree'}\n",
    "x_train['degree']= x_train.degree.map(dict5)\n"
   ]
  },
  {
   "cell_type": "code",
   "execution_count": null,
   "metadata": {},
   "outputs": [],
   "source": [
    "x_train1 = pd.get_dummies(x_train, prefix_sep='_', drop_first=True)"
   ]
  },
  {
   "cell_type": "code",
   "execution_count": null,
   "metadata": {},
   "outputs": [],
   "source": [
    "desired_features = x_train1[['salary','yearsworked','yearsrank','market','position_Junior','position_Manager','Field_Finance','Field_Marketing','Field_Human Resources']]"
   ]
  },
  {
   "cell_type": "code",
   "execution_count": null,
   "metadata": {},
   "outputs": [],
   "source": [
    "desired_features_corr = desired_features.corr()\n",
    "desired_features_corr.style.background_gradient(cmap = 'Pink')"
   ]
  },
  {
   "cell_type": "code",
   "execution_count": null,
   "metadata": {},
   "outputs": [],
   "source": [
    "print('For yearsworked, the correlation and p_value are:',stats.pearsonr(x_train1['yearsworked'],x_train['salary']))\n",
    "print('For yearsrank, the correlation and p_value are:',stats.pearsonr(x_train1['yearsrank'],x_train1['salary']))\n",
    "print('For junior position, the correlation and p_value are:',stats.pearsonr(x_train1['position_Junior'],x_train1['salary']))\n",
    "print('For manager position, the correlation and p_value are:',stats.pearsonr(x_train1['position_Manager'],x_train1['salary']))\n",
    "print('For finance field, the correlation and p_value are:',stats.pearsonr(x_train1['Field_Finance'],x_train1['salary']))\n",
    "print('For marketing field, the correlation and p_value are:',stats.pearsonr(x_train1['Field_Marketing'],x_train1['salary']))\n",
    "print('For HR field, the correlation and p_value are:',stats.pearsonr(x_train1['Field_Human Resources'],x_train1['salary']))\n"
   ]
  },
  {
   "cell_type": "markdown",
   "metadata": {},
   "source": [
    "*The above correlationship map shows the relationship between the features.* \n",
    "- It can show if there is multicollinearity that exist.\n",
    "- The darker the color on the block the higher the correlation.\n",
    "    \n",
    "*From the features we assume to be desired, the ones with strong correlation with salary are:*\n",
    "- Yearsworked\n",
    "- Yearsrank\n",
    "- Position \n",
    "\n",
    "*But there is a strong correlation between yearsworked and yearsank.\n",
    "Therefore the features chosen for fitting a model are:*\n",
    "- yearsworked\n",
    "- position\n",
    "\n",
    "Due to the low correlation between salary and the Field categories, we decided to not include Field in our model."
   ]
  },
  {
   "cell_type": "code",
   "execution_count": null,
   "metadata": {},
   "outputs": [],
   "source": [
    "dict1 = {1:'Engineering', 2:'Finance', 3:'Human Resources', 4:'Marketing'}\n",
    "x_test['Field'] = x_test.Field.map(dict1)\n",
    "dict2 ={0:'female', 1: 'male'}\n",
    "x_test['male'] =x_test.male.map(dict2)\n",
    "dict3={1:'Junior', 2:'Manager', 3:'Executive'}\n",
    "x_test['position']=x_test.position.map(dict3)\n",
    "dict4 ={0:'no other qual', 1:'yes other qual'}\n",
    "x_test['otherqual'] = x_test.otherqual.map(dict4)\n",
    "dict5 = {0:'no degree', 1:'yes degree'}\n",
    "x_test['degree']= x_test.degree.map(dict5)\n",
    "x_test1 = pd.get_dummies(x_test, prefix_sep='_', drop_first=True)"
   ]
  },
  {
   "cell_type": "code",
   "execution_count": null,
   "metadata": {
    "scrolled": false
   },
   "outputs": [],
   "source": [
    "# Field = pd.get_dummies(x_train['Field'],prefix_sep='_',drop_first=False)\n",
    "# Field.set_index('Human Resources')"
   ]
  },
  {
   "cell_type": "code",
   "execution_count": null,
   "metadata": {
    "scrolled": true
   },
   "outputs": [],
   "source": [
    "# dat_num = data_num.drop(['salary'],axis=1)\n",
    "# plt.figure(figsize=(15,15))\n",
    "# ax = sns.boxplot(data=dat_num,orient='h' ,palette='Set2')\n"
   ]
  },
  {
   "cell_type": "markdown",
   "metadata": {},
   "source": [
    "## Fitting the model for all the features"
   ]
  },
  {
   "cell_type": "code",
   "execution_count": null,
   "metadata": {},
   "outputs": [],
   "source": [
    "x_train1 = x_train1.drop('salary',axis=1)"
   ]
  },
  {
   "cell_type": "code",
   "execution_count": null,
   "metadata": {},
   "outputs": [],
   "source": [
    "import statsmodels.api as sm\n",
    "x_train2 = sm.add_constant(x_train1)\n",
    "model1 = sm.OLS(y_train,x_train2).fit()\n",
    "model1.summary()\n"
   ]
  },
  {
   "cell_type": "markdown",
   "metadata": {},
   "source": [
    "*The R-squared is 0.823 which means about 82% of the data is exlained by this model.*\n",
    "*Looking at the P-values, most variables do not have a significant relationship with salary.*"
   ]
  },
  {
   "cell_type": "markdown",
   "metadata": {},
   "source": [
    "## Fitting the model for the desired features"
   ]
  },
  {
   "cell_type": "code",
   "execution_count": null,
   "metadata": {},
   "outputs": [],
   "source": [
    "x_train3 = x_train1[['yearsrank','position_Junior','position_Manager']]\n",
    "x_train3 = sm.add_constant(x_train3)\n",
    "model2 = sm.OLS(y_train,x_train3).fit()\n",
    "model2.summary()"
   ]
  },
  {
   "cell_type": "markdown",
   "metadata": {},
   "source": [
    "*There Rsquared value of this model is 0.619. Which tells that the model explains about 62% of the observed points.*\n",
    "\n",
    "\n",
    "*What we get from this model is that:*\n",
    " - For every 1 unit increase in yearsranked the employee salary will increase by 699.3902 dollars.\n",
    " - For a junior position the employee will earn less by 17020 dollars.\n",
    " - For manager position the employee will earn less by by 11580 dollars.\n",
    " - According to this model the lower the rank of your position the lower the employee salary.\n",
    " - For any employee the employee will earn atleast 54510 dollars.\n",
    "    "
   ]
  },
  {
   "cell_type": "markdown",
   "metadata": {},
   "source": [
    "### Predictions\n"
   ]
  },
  {
   "cell_type": "code",
   "execution_count": null,
   "metadata": {},
   "outputs": [],
   "source": [
    "x_test1 = x_test1[['yearsrank','position_Junior','position_Manager']]\n",
    "x_test1 = sm.add_constant(x_test1)"
   ]
  },
  {
   "cell_type": "code",
   "execution_count": null,
   "metadata": {},
   "outputs": [],
   "source": [
    "# salary_prediction1 = model2.predict(x_train3)\n",
    "salary_prediction2 = model2.predict(x_test1)\n"
   ]
  },
  {
   "cell_type": "markdown",
   "metadata": {},
   "source": [
    "calculating residuals\n"
   ]
  },
  {
   "cell_type": "code",
   "execution_count": null,
   "metadata": {},
   "outputs": [],
   "source": [
    "# residual1 = y_train.values - salary_prediction1\n",
    "residual2 = y_test.values - salary_prediction2\n",
    "# residual1_mean = residual1.mean()\n",
    "residual2_mean = residual2.mean()\n",
    "# residual1_std = residual1.std()\n",
    "residual2_std = residual2.std()"
   ]
  },
  {
   "cell_type": "code",
   "execution_count": null,
   "metadata": {},
   "outputs": [],
   "source": [
    "standardised_residual2 =  residual2/residual2_std\n",
    "standardised_residual2"
   ]
  },
  {
   "cell_type": "code",
   "execution_count": null,
   "metadata": {},
   "outputs": [],
   "source": [
    "standardised_predicted = (salary_prediction2 - salary_prediction2.mean())/salary_prediction2.std()"
   ]
  },
  {
   "cell_type": "code",
   "execution_count": null,
   "metadata": {},
   "outputs": [],
   "source": [
    "\n",
    "fig,figsize = (60,30)\n",
    "sns.residplot(standardised_predicted, standardised_residual2,lowess = True)\n",
    "plt.xlabel = ('fitted values')\n",
    "#title and labels x = predicted(fitted values) and y = std residuals"
   ]
  },
  {
   "cell_type": "markdown",
   "metadata": {},
   "source": [
    "We added the lowess line, which is the locally weighted smoothing line. The lowess line is a tool which creates a smooth line through our residual plot to help us see a realtionship and future trends between our variables.There is no clear relationship in the plot, since the points are scattered (randomly dispersed) thus, the addition of the lowess line supports that a linear model is appropriate for the data. \n",
    "There are no problems with the regression."
   ]
  },
  {
   "cell_type": "code",
   "execution_count": null,
   "metadata": {},
   "outputs": [],
   "source": [
    "r=mean_squared_error(y_test,salary_prediction2)\n",
    "root_mean_error2 = sqrt(r)\n",
    "print('The RMSE for test set is:',root_mean_error2)"
   ]
  }
 ],
 "metadata": {
  "kernelspec": {
   "display_name": "Python 3",
   "language": "python",
   "name": "python3"
  },
  "language_info": {
   "codemirror_mode": {
    "name": "ipython",
    "version": 3
   },
   "file_extension": ".py",
   "mimetype": "text/x-python",
   "name": "python",
   "nbconvert_exporter": "python",
   "pygments_lexer": "ipython3",
   "version": "3.7.4"
  }
 },
 "nbformat": 4,
 "nbformat_minor": 2
}
